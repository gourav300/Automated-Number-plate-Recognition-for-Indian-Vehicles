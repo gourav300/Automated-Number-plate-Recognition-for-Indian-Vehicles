{
 "cells": [
  {
   "cell_type": "code",
   "execution_count": 1,
   "id": "ff67001e-fb56-4dc0-a03b-519945fe1127",
   "metadata": {
    "tags": []
   },
   "outputs": [],
   "source": [
    "import os\n",
    "import cv2\n",
    "from pascal_voc_writer import Writer\n",
    "import xml.etree.ElementTree as ET"
   ]
  },
  {
   "cell_type": "code",
   "execution_count": 2,
   "id": "5b9caa36-0820-4276-8d94-203960e9063a",
   "metadata": {
    "tags": []
   },
   "outputs": [],
   "source": [
    "train_folder_path = \"Tensorflow\\\\workspace\\\\images\\\\train\"\n",
    "validation_folder_path = \"Tensorflow\\\\workspace\\\\images\\\\validation\"\n",
    "test_folder_path = \"Tensorflow\\\\workspace\\\\images\\\\test\""
   ]
  },
  {
   "cell_type": "code",
   "execution_count": 3,
   "id": "eaf724d8-52e7-4801-b4c8-eaeb2fc844c6",
   "metadata": {
    "tags": []
   },
   "outputs": [],
   "source": [
    "file_list_train = os.listdir(train_folder_path)\n",
    "file_list_validation = os.listdir(validation_folder_path)\n",
    "file_list_test = os.listdir(test_folder_path)"
   ]
  },
  {
   "cell_type": "code",
   "execution_count": 4,
   "id": "2fb49362-247e-42b6-a9eb-ebbbd17617d2",
   "metadata": {
    "tags": []
   },
   "outputs": [
    {
     "name": "stdout",
     "output_type": "stream",
     "text": [
      "Total files in Training folder :  3758\n",
      "Total files in validation folder :  846\n",
      "Total files in Test folder :  791\n"
     ]
    }
   ],
   "source": [
    "print(\"Total files in Training folder : \", len(file_list_train))\n",
    "print(\"Total files in validation folder : \", len(file_list_validation))\n",
    "print(\"Total files in Test folder : \", len(file_list_test))"
   ]
  },
  {
   "cell_type": "code",
   "execution_count": 2,
   "id": "474bc192-634e-4c37-b0df-697dd664c24a",
   "metadata": {
    "tags": []
   },
   "outputs": [],
   "source": [
    "def xml_modifier(file_list,directory):\n",
    "    \n",
    "    cwd = os.getcwd()\n",
    "    os.chdir(directory)\n",
    "    count = 0    \n",
    "    for file in file_list:\n",
    "        file_name = file.split('.')[:-1] + [\"xml\"]\n",
    "        file_ext = file.split('.')[-1]\n",
    "\n",
    "        if (file_ext == 'xml'):\n",
    "            mytree = ET.parse(file)\n",
    "\n",
    "            myroot = mytree.getroot()\n",
    "\n",
    "            # iterating through the name values.\n",
    "            for names in myroot.iter('name'):\n",
    "                # updates the name value\n",
    "                names.text = str('NumberPlate')\n",
    "\n",
    "            count+=1\n",
    "            file_name_str = '.'.join([str(elem) for elem in file_name])\n",
    "            mytree.write(file_name_str)\n",
    "    print('Number of files Modified : ', count)\n",
    "    os.chdir(cwd)\n"
   ]
  },
  {
   "cell_type": "code",
   "execution_count": 6,
   "id": "3d514dac-7d1b-419f-9798-b61f035acbf5",
   "metadata": {
    "tags": []
   },
   "outputs": [
    {
     "name": "stdout",
     "output_type": "stream",
     "text": [
      "Number of files Modified :  6891\n"
     ]
    }
   ],
   "source": [
    "xml_modifier(file_list_train,train_folder_path)"
   ]
  },
  {
   "cell_type": "code",
   "execution_count": 7,
   "id": "e1c2f36e-d071-4c43-9485-7acf662b596f",
   "metadata": {},
   "outputs": [
    {
     "name": "stdout",
     "output_type": "stream",
     "text": [
      "Number of files Modified :  1669\n"
     ]
    }
   ],
   "source": [
    "xml_modifier(file_list_validation,validation_folder_path)"
   ]
  },
  {
   "cell_type": "code",
   "execution_count": 15,
   "id": "dcf25d20-bdab-4528-aef5-eb1d31ba41f0",
   "metadata": {},
   "outputs": [
    {
     "name": "stdout",
     "output_type": "stream",
     "text": [
      "Number of files Modified :  150\n"
     ]
    }
   ],
   "source": [
    "xml_modifier(file_list_test,test_folder_path)"
   ]
  },
  {
   "cell_type": "code",
   "execution_count": 15,
   "id": "bfdc8f90-9939-417b-8580-af6d6554f23e",
   "metadata": {},
   "outputs": [
    {
     "name": "stdout",
     "output_type": "stream",
     "text": [
      "Number of files Modified :  105\n"
     ]
    }
   ],
   "source": [
    "folder_path = \"ilp\\\\State-wise_OLX\\\\validation_olx\"\n",
    "file_list = os.listdir(folder_path)\n",
    "xml_modifier(file_list,folder_path)"
   ]
  },
  {
   "cell_type": "code",
   "execution_count": null,
   "id": "f4eb61c8-4d8c-4be7-a872-bd64960658b7",
   "metadata": {},
   "outputs": [],
   "source": []
  },
  {
   "cell_type": "code",
   "execution_count": 7,
   "id": "f69ad592-a83a-4049-b8dd-c6708aa1b07a",
   "metadata": {},
   "outputs": [],
   "source": [
    "def xml_image_name_modifier(file_list,directory):\n",
    "    \n",
    "    cwd = os.getcwd()\n",
    "    os.chdir(directory)\n",
    "    count = 0    \n",
    "    for file in file_list:\n",
    "        file_name = file.split('.')[0] + \".jpg\"\n",
    "        file_ext = file.split('.')[-1]\n",
    "\n",
    "        if (file_ext == 'xml'):\n",
    "            mytree = ET.parse(file)\n",
    "\n",
    "            myroot = mytree.getroot()\n",
    "\n",
    "            # iterating through the name values.\n",
    "            \n",
    "            for names in myroot.iter('filename'):\n",
    "                # updates the name value\n",
    "                if names.text.split('.')[-1] == 'jpeg':\n",
    "                    \n",
    "                    names.text = str(file_name)\n",
    "\n",
    "            count+=1\n",
    "            mytree.write(file)\n",
    "    print('Number of files Modified : ', count)\n",
    "    os.chdir(cwd)"
   ]
  },
  {
   "cell_type": "code",
   "execution_count": 8,
   "id": "a21f198c-5b5b-49e5-a561-940780a5012b",
   "metadata": {},
   "outputs": [
    {
     "name": "stdout",
     "output_type": "stream",
     "text": [
      "Number of files Modified :  629\n"
     ]
    }
   ],
   "source": [
    "xml_image_name_modifier(file_list_train,train_folder_path)"
   ]
  },
  {
   "cell_type": "code",
   "execution_count": 9,
   "id": "d13392b2-b3e0-465b-8028-8f9ca51ab807",
   "metadata": {},
   "outputs": [
    {
     "name": "stdout",
     "output_type": "stream",
     "text": [
      "Number of files Modified :  135\n"
     ]
    }
   ],
   "source": [
    "xml_image_name_modifier(file_list_validation,validation_folder_path)"
   ]
  },
  {
   "cell_type": "code",
   "execution_count": 10,
   "id": "e86ac23e-caba-4436-8c93-796e7df65529",
   "metadata": {
    "tags": []
   },
   "outputs": [
    {
     "name": "stdout",
     "output_type": "stream",
     "text": [
      "Number of files Modified :  147\n"
     ]
    }
   ],
   "source": [
    "xml_image_name_modifier(file_list_test,test_folder_path)"
   ]
  },
  {
   "cell_type": "code",
   "execution_count": null,
   "id": "81a97982-16f8-4281-88de-9bf985a9fd9a",
   "metadata": {},
   "outputs": [],
   "source": []
  },
  {
   "cell_type": "code",
   "execution_count": 31,
   "id": "557fe176-35c9-4648-ba54-9dc78daf4ae4",
   "metadata": {},
   "outputs": [],
   "source": [
    "xpth = 'C:\\\\Users\\\\gs\\\\Documents\\\\python\\\\anpr\\\\Tensorflow\\\\workspace\\\\images\\\\validation\\\\00000003_7.xml'"
   ]
  },
  {
   "cell_type": "code",
   "execution_count": 13,
   "id": "231270ce-beaf-4bf8-85e0-4392c95b3ecd",
   "metadata": {},
   "outputs": [
    {
     "name": "stdout",
     "output_type": "stream",
     "text": [
      "846\n",
      "423\n"
     ]
    }
   ],
   "source": [
    "source_file_path = os.path.join('Tensorflow','workspace','images','validation')\n",
    "file_list = [file for file in os.listdir(source_file_path) \n",
    "             if os.path.isfile(os.path.join(source_file_path, file))]\n",
    "    # file_list = os.listdir(source_file_path)\n",
    "    # print('Number of images : ',len(file_list)//2)\n",
    "improper_file_count = 0\n",
    "file_count = 0\n",
    "print(len(file_list))\n",
    "for file in file_list:\n",
    "\n",
    "    file_name = file.split('.')[0]\n",
    "    file_ext = file.split('.')[-1]\n",
    "\n",
    "    if (file_ext == 'xml'):\n",
    "        \n",
    "        xml_file_address = os.path.join(source_file_path, file)\n",
    "        mytree = ET.parse(xml_file_address)\n",
    "\n",
    "        myroot = mytree.getroot()\n",
    "        file_count+=1\n",
    "\n",
    "        # iterating through the bndbox values.\n",
    "\n",
    "        for dimension in myroot.iter('size'):\n",
    "            height = int(dimension.find('height').text)\n",
    "            width = int(dimension.find('width').text)\n",
    "\n",
    "        if (height <= 0) | (width <= 0):\n",
    "            improper_file_count+=1\n",
    "            print('width/height <= 0 : ', file)\n",
    "\n",
    "        if myroot.findall('object') == []:\n",
    "            continue\n",
    "\n",
    "        else:\n",
    "            for box in myroot.iter('bndbox'):\n",
    "                xmin = int(box.find('xmin').text)\n",
    "                ymin = int(box.find('ymin').text)\n",
    "                xmax = int(box.find('xmax').text)\n",
    "                ymax = int(box.find('ymax').text)\n",
    "\n",
    "                xmn = xmin / width\n",
    "                xmx = xmax / width\n",
    "\n",
    "                ymn = ymin / height\n",
    "                ymx = ymax / height\n",
    "                \n",
    "                box_width = xmax - xmin\n",
    "                box_height = ymax - ymin\n",
    "                \n",
    "                area = box_width * box_height\n",
    "                if area == 0 or area < 0:\n",
    "                      print(f\"Bbx with area = {area} not allowed\")\n",
    "                    \n",
    "                if (xmin>=xmax) | (ymin>=ymax):\n",
    "                    print('min > max : ', file)\n",
    "\n",
    "                if (xmin<0) | (ymin<0) | (xmax<0) | (ymax<0):\n",
    "                    improper_file_count+=1\n",
    "                    print('binding box < 0 : ', file)\n",
    "\n",
    "                if (xmn < 0.0) | (ymn < 0.0) | (xmx < 0.0) | (ymx < 0.0):\n",
    "                    improper_file_count+=1\n",
    "                    print('ratio of bbox/size < 0 : ', file)\n",
    "                if (xmn > 1) | (ymn > 1) | (xmx > 1) | (ymx > 1):\n",
    "                    improper_file_count+=1\n",
    "                    print('ratio of bbox/size > 0 : ', file)\n",
    "                \n",
    "print(file_count)"
   ]
  },
  {
   "cell_type": "code",
   "execution_count": 12,
   "id": "23534799-a60f-4560-8741-1c242e1ab2e3",
   "metadata": {},
   "outputs": [
    {
     "data": {
      "text/plain": [
       "1879"
      ]
     },
     "execution_count": 12,
     "metadata": {},
     "output_type": "execute_result"
    }
   ],
   "source": [
    "file_count"
   ]
  },
  {
   "cell_type": "code",
   "execution_count": 34,
   "id": "54e9d67e-6f48-48c1-9cfd-63883c88b8ac",
   "metadata": {},
   "outputs": [
    {
     "data": {
      "text/plain": [
       "'Tensorflow\\\\workspace\\\\images\\\\train'"
      ]
     },
     "execution_count": 34,
     "metadata": {},
     "output_type": "execute_result"
    }
   ],
   "source": [
    "source_file_path = os.path.join('Tensorflow','workspace','images','train')\n",
    "source_file_path"
   ]
  },
  {
   "cell_type": "markdown",
   "id": "16fb555e-a378-4772-a340-ba4a06f3a37e",
   "metadata": {},
   "source": [
    "## Finding missing jpg of xml file"
   ]
  },
  {
   "cell_type": "code",
   "execution_count": 31,
   "id": "0713465e-51cd-4957-8ea5-602b8e220235",
   "metadata": {},
   "outputs": [],
   "source": [
    "def missing_jpg(xml_file_path,jpg_file_path):\n",
    "    \n",
    "    file_list = [file for file in os.listdir(xml_file_path) \n",
    "             if os.path.isfile(os.path.join(xml_file_path, file))]\n",
    "    # file_list = os.listdir(xml_file_path)\n",
    "    print('Number of files : ',len(file_list))\n",
    "    blank_file_count = 0\n",
    "    file_count = 0\n",
    "    for file in file_list:\n",
    "\n",
    "        file_name = file.split('.')[0]\n",
    "        file_ext = file.split('.')[1]\n",
    "\n",
    "        if (file_ext == 'jpg'):\n",
    "            \n",
    "            # print((os.path.join(xml_file_path,file_name,f'.jpg'))\n",
    "            path = os.path.join(xml_file_path, f'{file_name}.xml')\n",
    "            if not os.path.exists(path):\n",
    "                \n",
    "                print(file)\n",
    "            # img = cv2.imread(os.path.join(jpg_file_path,f'{file_name}.jpg'))\n",
    "            # img = cv2.cvtColor(img, cv2.COLOR_BGR2RGB)"
   ]
  },
  {
   "cell_type": "code",
   "execution_count": 34,
   "id": "1baf73ef-a110-4eb2-b58a-6b0caa61ef55",
   "metadata": {},
   "outputs": [
    {
     "name": "stdout",
     "output_type": "stream",
     "text": [
      "Number of files :  3752\n"
     ]
    }
   ],
   "source": [
    "xml_file_path = os.path.join('Tensorflow','workspace','images','train')\n",
    "jpg_file_path = os.path.join('Tensorflow','workspace','images','train')\n",
    "missing_jpg(xml_file_path,jpg_file_path)"
   ]
  },
  {
   "cell_type": "markdown",
   "id": "ad4ed6c4-6037-4e80-b8af-bd4c1a946048",
   "metadata": {
    "tags": []
   },
   "source": [
    "## creating new xml files"
   ]
  },
  {
   "cell_type": "code",
   "execution_count": 26,
   "id": "332b443b-9b93-4e8c-900e-da44b4fe2db2",
   "metadata": {
    "scrolled": true,
    "tags": []
   },
   "outputs": [],
   "source": [
    "def creating_new_xml_files(source_file_path,destination_file_path):\n",
    "    \n",
    "    file_list = [file for file in os.listdir(destination_file_path) \n",
    "             if os.path.isfile(os.path.join(destination_file_path, file))]\n",
    "    # file_list = os.listdir(source_file_path)\n",
    "    # print('Number of images : ',len(file_list)//2)\n",
    "    file_count = 0\n",
    "    print('Total number of jpg files : ',len(file_list))\n",
    "    for file in file_list:\n",
    "\n",
    "        file_name = file.split('.')[0]\n",
    "        file_ext = file.split('.')[-1]\n",
    "\n",
    "        if (file_ext == 'jpg'):\n",
    "            \n",
    "            xml_file_address = os.path.join(source_file_path,f'{file_name}.xml')\n",
    "            jpg_file_address = os.path.join(destination_file_path,f'{file_name}.jpg')\n",
    "            # print(jpg_file_address)\n",
    "            \n",
    "            im = cv2.imread(jpg_file_address)\n",
    "            # print(im)\n",
    "            height = (im.shape[0])\n",
    "            width = (im.shape[1])\n",
    "            \n",
    "            mytree = ET.parse(xml_file_address)\n",
    "\n",
    "            myroot = mytree.getroot()\n",
    "            \n",
    "            # iterating through the size values.\n",
    "            # for dimension in myroot.iter('size'):\n",
    "            #     width = int(dimension.find('width').text)\n",
    "            #     height = int(dimension.find('height').text)\n",
    "            #     depth = int(dimension.find('depth').text)\n",
    "                \n",
    "\n",
    "            # iterating through the bndbox values.\n",
    "            bbox = []\n",
    "            for box in myroot.iter('bndbox'):\n",
    "                bbox_temp = []\n",
    "                bbox_temp.append(int(box.find('xmin').text))\n",
    "                bbox_temp.append(int(box.find('ymin').text))\n",
    "                bbox_temp.append(int(box.find('xmax').text))\n",
    "                bbox_temp.append(int(box.find('ymax').text))\n",
    "                bbox_temp.append('NumberPlate')\n",
    "                bbox.append(bbox_temp)\n",
    "                \n",
    "            # create pascal voc writer (image_path, width, height)\n",
    "            writer = Writer(os.path.join(destination_file_path, f'{file_name}.jpg'), \n",
    "                            width, height)\n",
    "            # add objects (class, xmin, ymin, xmax, ymax)\n",
    "            for info in (bbox):\n",
    "                writer.addObject(info[4], round(info[0]), round(info[1]), round(info[2]), round(info[3]))\n",
    "            # write to file\n",
    "            writer.save(os.path.join(destination_file_path, f'{file_name}.xml'))\n",
    "            file_count+=1\n",
    "\n",
    "           \n",
    "    print('Total number of xml files created : ', file_count)"
   ]
  },
  {
   "cell_type": "code",
   "execution_count": 27,
   "id": "056186cb-af68-4439-a507-e38feb2351d0",
   "metadata": {
    "tags": []
   },
   "outputs": [
    {
     "name": "stdout",
     "output_type": "stream",
     "text": [
      "Total number of jpg files :  1877\n",
      "Total number of xml files created :  1875\n"
     ]
    }
   ],
   "source": [
    "xml_file_path = os.path.join('Tensorflow','workspace','images','train','train_xml')\n",
    "jpg_file_path = os.path.join('Tensorflow','workspace','images','train','train_img')\n",
    "creating_new_xml_files(xml_file_path,jpg_file_path)"
   ]
  },
  {
   "cell_type": "code",
   "execution_count": 6,
   "id": "69c16ea9-f083-4963-af75-1f20e98d8ecf",
   "metadata": {},
   "outputs": [
    {
     "data": {
      "text/plain": [
       "'C:\\\\Users\\\\gs\\\\Documents\\\\python\\\\anpr'"
      ]
     },
     "execution_count": 6,
     "metadata": {},
     "output_type": "execute_result"
    }
   ],
   "source": [
    "os.getcwd()"
   ]
  },
  {
   "cell_type": "code",
   "execution_count": null,
   "id": "ecd20f91-0b08-4566-bb3d-a8a593cef1a4",
   "metadata": {},
   "outputs": [],
   "source": []
  }
 ],
 "metadata": {
  "kernelspec": {
   "display_name": "tfod",
   "language": "python",
   "name": "tfod"
  },
  "language_info": {
   "codemirror_mode": {
    "name": "ipython",
    "version": 3
   },
   "file_extension": ".py",
   "mimetype": "text/x-python",
   "name": "python",
   "nbconvert_exporter": "python",
   "pygments_lexer": "ipython3",
   "version": "3.9.10"
  }
 },
 "nbformat": 4,
 "nbformat_minor": 5
}
