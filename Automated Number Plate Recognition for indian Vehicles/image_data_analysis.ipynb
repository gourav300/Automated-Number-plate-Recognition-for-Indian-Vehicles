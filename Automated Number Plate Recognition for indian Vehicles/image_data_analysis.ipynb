{
 "cells": [
  {
   "cell_type": "markdown",
   "id": "245ef451-17f4-4205-8a89-0f2741e77d39",
   "metadata": {},
   "source": [
    "# Import Libraries"
   ]
  },
  {
   "cell_type": "code",
   "execution_count": 1,
   "id": "9fd8aa39-e97e-4a62-9f16-b6dfc445b674",
   "metadata": {},
   "outputs": [
    {
     "name": "stdout",
     "output_type": "stream",
     "text": [
      "✔️ Libraries Imported Successfully!\n"
     ]
    }
   ],
   "source": [
    "import os\n",
    "import numpy as np\n",
    "import cv2\n",
    "from PIL import Image\n",
    "import xml.etree.ElementTree as ET\n",
    "from pascal_voc_writer import Writer\n",
    "\n",
    "print('✔️ Libraries Imported Successfully!')"
   ]
  },
  {
   "cell_type": "markdown",
   "id": "0188eded-783a-4135-8f82-84e9285b9389",
   "metadata": {},
   "source": [
    "## Define paths"
   ]
  },
  {
   "cell_type": "code",
   "execution_count": 2,
   "id": "346ed619-5457-4a92-b040-ecce89c4590c",
   "metadata": {},
   "outputs": [],
   "source": [
    "paths = {\n",
    "    'workspace_path': os.path.join('Tensorflow', 'workspace'),\n",
    "    'scripts_path': os.path.join('Tensorflow','scripts'),\n",
    "    'apimodel_path': os.path.join('Tensorflow','models'),\n",
    "    'annotation_path': os.path.join('Tensorflow', 'workspace','annotations'),\n",
    "    'image_path': os.path.join('Tensorflow', 'workspace','images'),\n",
    "    'model_path': os.path.join('Tensorflow', 'workspace','models'),\n",
    "    'pretrained_model_path': os.path.join('Tensorflow', 'workspace','pre-trained-models'),\n",
    " }"
   ]
  },
  {
   "cell_type": "code",
   "execution_count": 6,
   "id": "db5869e0-b407-468d-9fb5-b82217ad2f0e",
   "metadata": {},
   "outputs": [],
   "source": [
    "image_folder_path = os.path.join('Tensorflow', 'workspace','images')\n",
    "train_folder_path = os.path.join(image_folder_path,'train') # same as \"Tensorflow\\\\workspace\\\\images\\\\train\"\n",
    "validation_folder_path = os.path.join(image_folder_path,'validation')\n",
    "test_folder_path = os.path.join(image_folder_path,'test')"
   ]
  },
  {
   "cell_type": "markdown",
   "id": "336001f1-6393-4dd0-b9a5-01449894288c",
   "metadata": {
    "tags": []
   },
   "source": [
    "## Total number of files in folders"
   ]
  },
  {
   "cell_type": "code",
   "execution_count": 9,
   "id": "fc20cc42-6cdc-43f6-8c81-6b1061cdc2b1",
   "metadata": {},
   "outputs": [
    {
     "data": {
      "text/plain": [
       "['10PlateBaza275.jpg',\n",
       " '10PlateBaza275.xml',\n",
       " '10PlateBaza299.jpg',\n",
       " '10PlateBaza299.xml',\n",
       " '10xemay112.jpg']"
      ]
     },
     "execution_count": 9,
     "metadata": {},
     "output_type": "execute_result"
    }
   ],
   "source": [
    "# os.listdir returns list containing names of all the files and folders present in a directory.\n",
    "# In our example train,validation and test folder contains only images and their xml annotations.\n",
    "file_list_train = os.listdir(train_folder_path)\n",
    "\n",
    "# printing first 5 elements of file_list_train\n",
    "file_list_train[:5]"
   ]
  },
  {
   "cell_type": "code",
   "execution_count": 19,
   "id": "dd676f19-f00d-4705-9f51-84559670fd5d",
   "metadata": {},
   "outputs": [
    {
     "name": "stdout",
     "output_type": "stream",
     "text": [
      "✔️ Function Defined!\n"
     ]
    }
   ],
   "source": [
    "def num_files(folder_path):\n",
    "    '''\n",
    "    Takes folder path as input and prints the number of files in a folder\n",
    "    Note- subfolders and their files are not considered while returning result.\n",
    "    '''\n",
    "    \n",
    "    # list of files name in a folder\n",
    "    file_list = [file for file in os.listdir(folder_path) \n",
    "         if os.path.isfile(os.path.join(folder_path, file))] #sub folders names and files in them are not included\n",
    "    # folder_name derivied by splitting folder_path on(\"\\\\\") and take the last element of the split list \n",
    "    folder_name = folder_path.split(\"\\\\\")[-1]\n",
    "    \n",
    "    # printing total number of file in a folder list by using len function.\n",
    "    print(f\"Total files in {folder_name} folder : \", len(file_list))\n",
    "    \n",
    "print('✔️ Function Defined!')"
   ]
  },
  {
   "cell_type": "code",
   "execution_count": 20,
   "id": "13caf36b-40bf-4993-8d93-a951064a3791",
   "metadata": {},
   "outputs": [
    {
     "name": "stdout",
     "output_type": "stream",
     "text": [
      "Total files in train folder :  5075\n"
     ]
    }
   ],
   "source": [
    "num_files(train_folder_path)"
   ]
  },
  {
   "cell_type": "code",
   "execution_count": 23,
   "id": "02c5e828-1c2a-425f-93cc-7cc5e8427a70",
   "metadata": {},
   "outputs": [
    {
     "name": "stdout",
     "output_type": "stream",
     "text": [
      "Total files in validation folder :  1091\n"
     ]
    }
   ],
   "source": [
    "num_files(validation_folder_path)"
   ]
  },
  {
   "cell_type": "code",
   "execution_count": 24,
   "id": "0b5dc6ac-213f-4f6f-81be-bd60ab098dce",
   "metadata": {},
   "outputs": [
    {
     "name": "stdout",
     "output_type": "stream",
     "text": [
      "Total files in test folder :  1091\n"
     ]
    }
   ],
   "source": [
    "num_files(test_folder_path)"
   ]
  },
  {
   "cell_type": "markdown",
   "id": "4b304905-a6f4-4a21-a2d4-bb6aa5725d94",
   "metadata": {},
   "source": [
    "## Types of file formats in train and test folder and their count"
   ]
  },
  {
   "cell_type": "code",
   "execution_count": 31,
   "id": "d8fb0915-b8ed-4725-862f-b68d871638dd",
   "metadata": {},
   "outputs": [
    {
     "name": "stdout",
     "output_type": "stream",
     "text": [
      "✔️ Function Defined!\n"
     ]
    }
   ],
   "source": [
    "# function to get unique file extensions and their counts\n",
    "def unique_ext(folder_path):\n",
    "    '''\n",
    "    Take folder path as input and prints the unique file extensions present\n",
    "    in the folder along with their counts.\n",
    "    '''\n",
    "    \n",
    "    # list of files name in a folder\n",
    "    file_list = [file for file in os.listdir(folder_path) \n",
    "         if os.path.isfile(os.path.join(folder_path, file))] #sub folders names not included\n",
    "    \n",
    "    # Creating a list of extensions of files present in a folder,\n",
    "    # first by splitting the name of files on \".\" then take the last element \"[-1]\" of split as extension of file.\n",
    "    extensions_list = [ext.split('.')[-1] for ext in file_list]\n",
    "    \n",
    "    #convert extension list to numpy array\n",
    "    x = np.array(extensions_list) \n",
    "    \n",
    "    # using np.unique to return unique extensions and their counts in a numpy array\n",
    "    unique, counts = np.unique(x, return_counts=True) \n",
    "    \n",
    "    # folder_name derivied by splitting folder_path on(\"\\\\\") and take the last element of the split list \n",
    "    folder_name = folder_path.split(\"\\\\\")[-1]\n",
    "    \n",
    "    # print numpy array\n",
    "    print (f'Number of unique extensions in {folder_name} folder : \\n',np.asarray((unique, counts)).T)\n",
    "\n",
    "print('✔️ Function Defined!')"
   ]
  },
  {
   "cell_type": "code",
   "execution_count": 32,
   "id": "b0100c87-1df0-457b-9d0d-21b38b2a01fc",
   "metadata": {},
   "outputs": [
    {
     "name": "stdout",
     "output_type": "stream",
     "text": [
      "Number of unique extensions in train folder : \n",
      " [['ini' '1']\n",
      " ['jpg' '2229']\n",
      " ['png' '308']\n",
      " ['xml' '2537']]\n"
     ]
    }
   ],
   "source": [
    "unique_ext(train_folder_path)"
   ]
  },
  {
   "cell_type": "code",
   "execution_count": 33,
   "id": "edd6682f-d716-47cb-bd84-0db608cf358d",
   "metadata": {},
   "outputs": [
    {
     "name": "stdout",
     "output_type": "stream",
     "text": [
      "Number of unique extensions in validation folder : \n",
      " [['ini' '1']\n",
      " ['jpg' '479']\n",
      " ['png' '66']\n",
      " ['xml' '545']]\n"
     ]
    }
   ],
   "source": [
    "unique_ext(validation_folder_path)"
   ]
  },
  {
   "cell_type": "code",
   "execution_count": 34,
   "id": "8990e622-6abe-4d0c-8ab5-2b687512a2e9",
   "metadata": {},
   "outputs": [
    {
     "name": "stdout",
     "output_type": "stream",
     "text": [
      "Number of unique extensions in test folder : \n",
      " [['ini' '1']\n",
      " ['jpg' '479']\n",
      " ['png' '66']\n",
      " ['xml' '545']]\n"
     ]
    }
   ],
   "source": [
    "unique_ext(test_folder_path)"
   ]
  },
  {
   "cell_type": "markdown",
   "id": "caf8ec9b-2359-4dd1-84e3-d4cc91d129d7",
   "metadata": {},
   "source": [
    "## Convert jpeg/png files into jpg"
   ]
  },
  {
   "cell_type": "code",
   "execution_count": 35,
   "id": "2bc411df-c098-4527-ba26-20a73dda7bca",
   "metadata": {},
   "outputs": [
    {
     "name": "stdout",
     "output_type": "stream",
     "text": [
      "✔️ Function Defined!\n"
     ]
    }
   ],
   "source": [
    "def img_to_jpg(folder_path):\n",
    "    '''\n",
    "    Converts and save images of JPEG and PNG format to JPG.\n",
    "    Delete the JPEG and PNG format images\n",
    "    Also modify and save their respective xml annotation files\n",
    "    '''\n",
    "    \n",
    "    # list of file names in a folder\n",
    "    file_list = [file for file in os.listdir(folder_path) \n",
    "         if os.path.isfile(os.path.join(folder_path, file))]\n",
    "    \n",
    "    # image formats to convert in jpg\n",
    "    img_extensions = ['jpeg','png']\n",
    "    count = 0    \n",
    "    for file in file_list:\n",
    "        file_name = file.split('.')[:-1]\n",
    "        file_name_str = '.'.join([str(elem) for elem in file_name])\n",
    "        file_name_jpg = file_name_str + '.jpg'\n",
    "        file_name_xml = file_name_str + '.xml'\n",
    "        file_ext = file.split('.')[-1]\n",
    "\n",
    "        if file_ext in img_extensions:\n",
    "\n",
    "            im = Image.open(os.path.join(folder_path,file))\n",
    "\n",
    "            # converting to jpg\n",
    "            rgb_im = im.convert(\"RGB\")\n",
    "\n",
    "            # exporting the image\n",
    "            rgb_im.save(os.path.join(folder_path,file_name_jpg))\n",
    "            os.remove(os.path.join(folder_path,file))\n",
    "            \n",
    "            # Updating image name in xml annotation file\n",
    "            mytree = ET.parse(os.path.join(folder_path,file_name_xml))\n",
    "            myroot = mytree.getroot()\n",
    "\n",
    "            \n",
    "            # iterating through the name values.\n",
    "            for names in myroot.iter('filename'):\n",
    "                \n",
    "                # updates the name value\n",
    "                names.text = str(file_name_jpg)\n",
    "\n",
    "            \n",
    "            mytree.write(os.path.join(folder_path,file_name_xml))\n",
    "            count+=1\n",
    "            \n",
    "    print('Number of files converted : ', count)\n",
    "\n",
    "\n",
    "print('✔️ Function Defined!')"
   ]
  },
  {
   "cell_type": "code",
   "execution_count": 36,
   "id": "28d7beb2-1cd5-4da2-8532-5c0b438ac31a",
   "metadata": {},
   "outputs": [
    {
     "name": "stdout",
     "output_type": "stream",
     "text": [
      "Number of unique extensions in new folder : \n",
      " [['jpg' '2']\n",
      " ['png' '3']\n",
      " ['xml' '5']]\n"
     ]
    }
   ],
   "source": [
    "# testing function\n",
    "folder_path = \"Tensorflow\\\\workspace\\\\images\\\\new\"\n",
    "\n",
    "unique_ext(folder_path)"
   ]
  },
  {
   "cell_type": "code",
   "execution_count": 37,
   "id": "0e8bf5e9-79fc-4d71-a7ee-f57aa7e04eeb",
   "metadata": {},
   "outputs": [
    {
     "name": "stdout",
     "output_type": "stream",
     "text": [
      "Number of files converted :  3\n"
     ]
    }
   ],
   "source": [
    "img_to_jpg(folder_path)"
   ]
  },
  {
   "cell_type": "code",
   "execution_count": 38,
   "id": "ba243117-5463-4699-8dcb-a97d4b70304e",
   "metadata": {},
   "outputs": [
    {
     "name": "stdout",
     "output_type": "stream",
     "text": [
      "Number of unique extensions in new folder : \n",
      " [['jpg' '5']\n",
      " ['xml' '5']]\n"
     ]
    }
   ],
   "source": [
    "unique_ext(folder_path)"
   ]
  },
  {
   "cell_type": "markdown",
   "id": "35facf11-166c-4d67-8f0d-9ae637c049b1",
   "metadata": {},
   "source": [
    "## Bifurcation of image dimensions in a folder"
   ]
  },
  {
   "cell_type": "code",
   "execution_count": 44,
   "id": "a0d4f24f-d2ce-4255-9718-815a5515a25e",
   "metadata": {},
   "outputs": [
    {
     "name": "stdout",
     "output_type": "stream",
     "text": [
      "✔️ Function Defined!\n"
     ]
    }
   ],
   "source": [
    "def images_size_in_folder(folder_path, lower_image_size = 300, upper_image_size = 512):\n",
    "    '''\n",
    "    Takes folder_path, lower_image_size, upper_image_size as inputs,\n",
    "    it reads image file of extensions in img_extensions from folder_path and take minimum dimension(height or width)\n",
    "    of an image and store in a list min_dimension. Later we use lower_image_size and upper_image_size values\n",
    "    to count the following results\n",
    "    prints following output - \n",
    "    1. Size of images in folder :\n",
    "    2. Number of images with dimension < lower_image_size\n",
    "    3. Number of images with dimension >= lower_image_size and <= upper_image_size\n",
    "    4. Number of images with dimension > upper_image_size\n",
    "    '''\n",
    "    # list of files name in a folder\n",
    "    file_list = [file for file in os.listdir(folder_path) \n",
    "         if os.path.isfile(os.path.join(folder_path, file))] #sub folders names not included\n",
    "    \n",
    "    # min_dimension lists for storing min dimension(height or width) of images.\n",
    "    min_dimension = []\n",
    "    \n",
    "    img_extensions = ['jpg','jpeg','png']\n",
    "    \n",
    "    for file in file_list:\n",
    "        \n",
    "        file_ext = file.split('.')[-1]\n",
    "        \n",
    "        if file_ext in img_extensions:\n",
    "\n",
    "            # read image in open cv\n",
    "            im = cv2.imread(os.path.join(folder_path,file))\n",
    "            \n",
    "            img_size = im.shape[:2] # img_size is in (height, width) format\n",
    "            \n",
    "            # append min dimension(height or width) of image in min_dimension list\n",
    "            min_dimension.append(min(img_size))\n",
    "            \n",
    "    # folder_name derivied by splitting folder_path on(\"\\\\\") and take the last element of the split list \n",
    "    folder_name = folder_path.split(\"\\\\\")[-1]\n",
    "    print(f'Size of images in {folder_name} folder :')\n",
    "    print(f'Number of images with dimension < {lower_image_size}pxl : ', len([i for i in min_dimension if i < lower_image_size]))\n",
    "    print(f'Number of images with dimension >= {lower_image_size}pxl and <= {upper_image_size}pxl : ', len([i for i in min_dimension if (i >= lower_image_size) & (i <= upper_image_size)]))\n",
    "    print(f'Number of images with dimension > {upper_image_size}pxl : ', len([i for i in min_dimension if i > upper_image_size]))\n",
    "\n",
    "print('✔️ Function Defined!')"
   ]
  },
  {
   "cell_type": "code",
   "execution_count": 46,
   "id": "877d6bd9-7ab2-44b5-8d5f-51c696fe29e9",
   "metadata": {},
   "outputs": [
    {
     "name": "stdout",
     "output_type": "stream",
     "text": [
      "Size of images in train folder :\n",
      "Number of images with dimension < 300pxl :  2537\n",
      "Number of images with dimension >= 300pxl and <= 512pxl :  0\n",
      "Number of images with dimension > 512pxl :  0\n",
      "Size of images in validation folder :\n",
      "Number of images with dimension < 300pxl :  545\n",
      "Number of images with dimension >= 300pxl and <= 512pxl :  0\n",
      "Number of images with dimension > 512pxl :  0\n",
      "Size of images in test folder :\n",
      "Number of images with dimension < 250pxl :  0\n",
      "Number of images with dimension >= 250pxl and <= 300pxl :  545\n",
      "Number of images with dimension > 300pxl :  0\n"
     ]
    }
   ],
   "source": [
    "images_size_in_folder(train_folder_path)\n",
    "images_size_in_folder(validation_folder_path)\n",
    "images_size_in_folder(test_folder_path,250,300)"
   ]
  },
  {
   "cell_type": "code",
   "execution_count": 52,
   "id": "48af5a71-74dc-498e-81cc-e201e109bf61",
   "metadata": {},
   "outputs": [
    {
     "data": {
      "text/plain": [
       "{'potrait': 'Tensorflow\\\\workspace\\\\images\\\\new\\\\potrait_images',\n",
       " 'Img_512+': 'Tensorflow\\\\workspace\\\\images\\\\new\\\\Img_512+',\n",
       " 'Img_300_to_512)': 'Tensorflow\\\\workspace\\\\images\\\\new\\\\Img_300_to_512)',\n",
       " 'Img_300-': 'Tensorflow\\\\workspace\\\\images\\\\new\\\\Img_300-'}"
      ]
     },
     "execution_count": 52,
     "metadata": {},
     "output_type": "execute_result"
    }
   ],
   "source": [
    "paths"
   ]
  },
  {
   "cell_type": "markdown",
   "id": "077494da-0d51-4ea0-88df-7c7ed5dfc417",
   "metadata": {},
   "source": [
    "## Image file segregation by image dimension\n",
    "This function later comes handy while doing Image Augmentation using Albumentations"
   ]
  },
  {
   "cell_type": "code",
   "execution_count": 71,
   "id": "9324dbda-060a-4607-b0d5-9766c4376679",
   "metadata": {},
   "outputs": [
    {
     "name": "stdout",
     "output_type": "stream",
     "text": [
      "✔️ Function Defined!\n"
     ]
    }
   ],
   "source": [
    "def image_file_segregation_by_dimension(folder_path, lower_image_size = 300, upper_image_size = 512, potrait = False):\n",
    "    '''\n",
    "    Segregate image files and their xml annotation files into different folders based on their size(dimension)\n",
    "    Takes following input\n",
    "    folder_path - path of folder containing image files and their xml annotation files on which segregation is to be performed\n",
    "    lower_image_size - lower range of pixel value of image, default set to 300pxl\n",
    "    upper_image_size - upper range of pixel value of image, default set to 512pxl\n",
    "    potrait - set this to 'True' if potrait images are to be segregated, default set to 'False'\n",
    "    \n",
    "    Output - \n",
    "    create different folders in the parent folder and move files in respective folders according to their pixel size\n",
    "    create following folders-\n",
    "    'potrait': if potrair set to 'True'\n",
    "    'Img_512+'\n",
    "    'Img_300_to_512)'\n",
    "    'Img_300-'\n",
    "    '''\n",
    "    # list of files name in a folder\n",
    "    file_list = [file for file in os.listdir(folder_path) \n",
    "         if os.path.isfile(os.path.join(folder_path, file))] #sub folders names not included\n",
    "    \n",
    "    if potrait ==False:\n",
    "        \n",
    "        paths = {\n",
    "            f'Img_{upper_image_size}+' : os.path.join(folder_path,f'Img_{upper_image_size}+'),\n",
    "            f'Img_{lower_image_size}_to_{upper_image_size})' : os.path.join(folder_path,f'Img_{lower_image_size}_to_{upper_image_size})'),\n",
    "            f'Img_{lower_image_size}-' : os.path.join(folder_path,f'Img_{lower_image_size}-')\n",
    "        }\n",
    "    else:\n",
    "        paths = {\n",
    "            'potrait' : os.path.join(folder_path,'potrait_images'),\n",
    "            f'Img_{upper_image_size}+' : os.path.join(folder_path,f'Img_{upper_image_size}+'),\n",
    "            f'Img_{lower_image_size}_to_{upper_image_size}' : os.path.join(folder_path,f'Img_{lower_image_size}_to_{upper_image_size}'),\n",
    "            f'Img_{lower_image_size}-' : os.path.join(folder_path,f'Img_{lower_image_size}-')\n",
    "        }\n",
    "\n",
    "    for path in paths.values():\n",
    "        if not os.path.exists(path):\n",
    "            if os.name == 'posix':\n",
    "                !mkdir -p {path}\n",
    "            if os.name == 'nt':\n",
    "                !mkdir {path}\n",
    "\n",
    "    img_extensions = ['jpg','jpeg','png','JPG','JPEG','PNG']\n",
    "    \n",
    "    \n",
    "    for file in file_list:\n",
    "        \n",
    "        file_name = file.split('.')[:-1]\n",
    "        file_name_str = '.'.join([str(elem) for elem in file_name])\n",
    "        file_name_xml = file_name_str + '.xml'\n",
    "        file_ext = file.split('.')[-1]\n",
    "        \n",
    "        if file_ext in img_extensions:\n",
    "            \n",
    "            # read image in open cv\n",
    "            im = cv2.imread(os.path.join(folder_path,file))\n",
    "            # im.shape is in (height, width) format\n",
    "            height = im.shape[0]\n",
    "            width = im.shape[1]\n",
    "            \n",
    "            # source filepath of image file\n",
    "            existing_filepath_img = os.path.join(folder_path,file)\n",
    "            # source filepath of corresponding xml file\n",
    "            existing_filepath_xml = os.path.join(folder_path,file_name_xml)\n",
    "\n",
    "            # if image and its xml file is present in folder\n",
    "            if (os.path.exists(existing_filepath_img)) & (os.path.exists(existing_filepath_xml)):\n",
    "\n",
    "                if (width/height < 1) & (potrait == True) :\n",
    "                    # destination filepath of image file\n",
    "                    new_filepath_img = os.path.join(paths['potrait'],file)\n",
    "                    # destination filepath of corresponding xml file\n",
    "                    new_filepath_xml = os.path.join(paths['potrait'],file_name_xml)\n",
    "                    \n",
    "                    # moving image file from souce filepath to destination filepath\n",
    "                    os.replace(existing_filepath_img, new_filepath_img)\n",
    "                    # moving xml file from souce filepath to destination filepath\n",
    "                    os.replace(existing_filepath_xml, new_filepath_xml)\n",
    "\n",
    "                elif (height > upper_image_size) & (width > upper_image_size):\n",
    "\n",
    "                    new_filepath_img = os.path.join(paths[f'Img_{upper_image_size}+'],file)\n",
    "                    new_filepath_xml = os.path.join(paths[f'Img_{upper_image_size}+'],file_name_xml)\n",
    "                    os.replace(existing_filepath_img, new_filepath_img)\n",
    "                    os.replace(existing_filepath_xml, new_filepath_xml)\n",
    "\n",
    "                elif ((height >= lower_image_size) & (width >= lower_image_size)):\n",
    "                    new_filepath_img = os.path.join(paths[f'Img_{lower_image_size}_to_{upper_image_size}'],file)\n",
    "                    new_filepath_xml = os.path.join(paths[f'Img_{lower_image_size}_to_{upper_image_size}'],file_name_xml)\n",
    "                    os.replace(existing_filepath_img, new_filepath_img)\n",
    "                    os.replace(existing_filepath_xml, new_filepath_xml)\n",
    "\n",
    "                else:\n",
    "                    new_filepath_img = os.path.join(paths[f'Img_{lower_image_size}-'],file)\n",
    "                    new_filepath_xml = os.path.join(paths[f'Img_{lower_image_size}-'],file_name_xml)\n",
    "                    os.replace(existing_filepath_img, new_filepath_img)\n",
    "                    os.replace(existing_filepath_xml, new_filepath_xml)\n",
    "\n",
    "    print('✔️ Transfer of files successful')\n",
    "\n",
    "    \n",
    "print('✔️ Function Defined!')"
   ]
  },
  {
   "cell_type": "code",
   "execution_count": 65,
   "id": "912cc676-4b6d-4ae8-8351-7a4be00004d0",
   "metadata": {},
   "outputs": [
    {
     "data": {
      "text/plain": [
       "'C:\\\\Users\\\\gs\\\\Documents\\\\python\\\\anpr'"
      ]
     },
     "execution_count": 65,
     "metadata": {},
     "output_type": "execute_result"
    }
   ],
   "source": [
    "# testing function\n",
    "%pwd"
   ]
  },
  {
   "cell_type": "code",
   "execution_count": 66,
   "id": "be94afb3-a9be-4d20-a839-a287874ec170",
   "metadata": {},
   "outputs": [],
   "source": [
    "folder_path = os.path.join('Tensorflow','workspace','images','number_plate_detection','train')"
   ]
  },
  {
   "cell_type": "code",
   "execution_count": 67,
   "id": "a3123544-444e-4c28-97d5-9c80e65d74b3",
   "metadata": {},
   "outputs": [
    {
     "name": "stdout",
     "output_type": "stream",
     "text": [
      "Number of unique extensions in train folder : \n",
      " [['JPG' '1']\n",
      " ['ini' '1']\n",
      " ['jpg' '1443']\n",
      " ['xml' '1444']]\n"
     ]
    }
   ],
   "source": [
    "unique_ext(folder_path)"
   ]
  },
  {
   "cell_type": "markdown",
   "id": "a465fb3f-100d-49fe-a76a-39db6f74ceab",
   "metadata": {},
   "source": [
    "ini is 'desktop.ini' (windows) file in the folder"
   ]
  },
  {
   "cell_type": "code",
   "execution_count": 68,
   "id": "4b307ede-63cc-40ee-9ea0-b057a9f77980",
   "metadata": {},
   "outputs": [
    {
     "name": "stdout",
     "output_type": "stream",
     "text": [
      "Size of images in train folder :\n",
      "Number of images with dimension < 300pxl :  643\n",
      "Number of images with dimension >= 300pxl and <= 512pxl :  285\n",
      "Number of images with dimension > 512pxl :  515\n"
     ]
    }
   ],
   "source": [
    "# print image size bifurcation in train folder \n",
    "images_size_in_folder(folder_path)"
   ]
  },
  {
   "cell_type": "code",
   "execution_count": 72,
   "id": "258265d8-3a09-4322-b3bd-aee7690152fe",
   "metadata": {},
   "outputs": [
    {
     "name": "stdout",
     "output_type": "stream",
     "text": [
      "✔️ Transfer of files successful\n"
     ]
    }
   ],
   "source": [
    "# segregate all the images and their xml annotation files in their respective folders\n",
    "image_file_segregation_by_dimension(folder_path,potrait=True)"
   ]
  },
  {
   "cell_type": "code",
   "execution_count": 13,
   "id": "d7d89823-7ed6-4407-b1f6-7e87f87dbf12",
   "metadata": {},
   "outputs": [
    {
     "name": "stdout",
     "output_type": "stream",
     "text": [
      "Transfer of files successful\n"
     ]
    }
   ],
   "source": [
    "image_file_segregation_by_pxl(test_folder_path)"
   ]
  },
  {
   "cell_type": "code",
   "execution_count": 14,
   "id": "5c98714e-7f7d-46e0-be5b-e14c596a8ef5",
   "metadata": {},
   "outputs": [
    {
     "name": "stdout",
     "output_type": "stream",
     "text": [
      "Transfer of files successful\n"
     ]
    }
   ],
   "source": [
    "image_file_segregation_by_pxl(validation_folder_path)"
   ]
  },
  {
   "cell_type": "code",
   "execution_count": 15,
   "id": "bfdf9240-1472-4c80-8050-c8bdcbb9a0c4",
   "metadata": {},
   "outputs": [
    {
     "name": "stdout",
     "output_type": "stream",
     "text": [
      "Transfer of files successful\n"
     ]
    }
   ],
   "source": [
    "image_file_segregation_by_pxl(train_folder_path)"
   ]
  },
  {
   "cell_type": "code",
   "execution_count": 54,
   "id": "7a597d78-c004-49b0-a4de-a109ef2716fc",
   "metadata": {},
   "outputs": [
    {
     "data": {
      "text/plain": [
       "list"
      ]
     },
     "execution_count": 54,
     "metadata": {},
     "output_type": "execute_result"
    }
   ],
   "source": []
  },
  {
   "cell_type": "markdown",
   "id": "0a15c647-c7d4-46b8-9101-f52933352e87",
   "metadata": {},
   "source": [
    "## 2. Image Augmentation using Albumentations"
   ]
  },
  {
   "cell_type": "markdown",
   "id": "3b58b680-ef6d-42d3-973c-3bcb8aee822e",
   "metadata": {
    "jupyter": {
     "outputs_hidden": true
    },
    "tags": []
   },
   "source": [
    "pip install -U albumentations"
   ]
  },
  {
   "cell_type": "markdown",
   "id": "8cb3c479-b617-47a1-b785-8d3d76136677",
   "metadata": {
    "jupyter": {
     "outputs_hidden": true
    },
    "tags": []
   },
   "source": [
    "pip install pascal-voc-writer"
   ]
  },
  {
   "cell_type": "code",
   "execution_count": 16,
   "id": "d5a8e2f8-6484-42c6-8e35-df9dab322e86",
   "metadata": {},
   "outputs": [],
   "source": [
    "import albumentations as A\n",
    "import cv2\n",
    "from pascal_voc_writer import Writer\n",
    "import xml.etree.ElementTree as ET\n",
    "\n",
    "print('✔️ Libraries Imported Successfully!')"
   ]
  },
  {
   "cell_type": "code",
   "execution_count": 17,
   "id": "6e64698b-9933-4f69-8e8d-49ad9c6fcdd8",
   "metadata": {},
   "outputs": [],
   "source": [
    "transform = A.Compose([\n",
    "    A.RandomCrop(width=512, height=512),\n",
    "    A.HorizontalFlip(p=0.5),\n",
    "    A.RandomBrightnessContrast(p=0.3),\n",
    "    A.RandomGamma(p=0.2), \n",
    "    A.RGBShift(p=0.2),\n",
    "], bbox_params=A.BboxParams(format='pascal_voc', min_visibility=0.3, label_fields=['class_labels']))"
   ]
  },
  {
   "cell_type": "code",
   "execution_count": 18,
   "id": "0b653010-2ef8-453f-b6bf-6cae5f806fb4",
   "metadata": {
    "scrolled": true,
    "tags": []
   },
   "outputs": [],
   "source": [
    "def albumentation_pipeline(source_file_path,destination_file_path,num_images):\n",
    "    \n",
    "    file_list = [file for file in os.listdir(source_file_path) \n",
    "             if os.path.isfile(os.path.join(source_file_path, file))]\n",
    "    # file_list = os.listdir(source_file_path)\n",
    "    print('Number of images : ',len(file_list)//2)\n",
    "    blank_file_count = 0\n",
    "    file_count = 0\n",
    "    for file in file_list:\n",
    "\n",
    "        file_name = file.split('.')[0]\n",
    "        file_ext = file.split('.')[1]\n",
    "\n",
    "        if (file_ext == 'jpg'):\n",
    "            # print((os.path.join(source_file_path,file_name,f'.jpg'))\n",
    "            img = cv2.imread(os.path.join(source_file_path,f'{file_name}.jpg'))\n",
    "            img = cv2.cvtColor(img, cv2.COLOR_BGR2RGB)\n",
    "\n",
    "\n",
    "            xml_file_address = os.path.join(source_file_path,f'{file_name}.xml')\n",
    "            mytree = ET.parse(xml_file_address)\n",
    "\n",
    "            myroot = mytree.getroot()\n",
    "\n",
    "            # iterating through the bndbox values.\n",
    "            bbox = []\n",
    "            class_label = []\n",
    "            for box in myroot.iter('bndbox'):\n",
    "                bbox_temp = []\n",
    "                bbox_temp.append(int(box.find('xmin').text))\n",
    "                bbox_temp.append(int(box.find('ymin').text))\n",
    "                bbox_temp.append(int(box.find('xmax').text))\n",
    "                bbox_temp.append(int(box.find('ymax').text))\n",
    "                bbox_temp.append('NumberPlate')\n",
    "                bbox.append(bbox_temp)\n",
    "                class_label.append('NumberPlate')\n",
    "\n",
    "            # print(bbox)\n",
    "\n",
    "            for num_img in range(num_images):\n",
    "                transformed = transform(image=img, bboxes=bbox, class_labels = class_label)\n",
    "                transformed_image = transformed['image']\n",
    "                transformed_bboxes = transformed['bboxes']\n",
    "                # transformed_class_labels = transformed['class_labels']\n",
    "                if ((len(transformed_bboxes) == 0) & (blank_file_count < (len(file_list)*.50))) | (len(transformed_bboxes) != 0):\n",
    "\n",
    "                    \n",
    "                    cv2.imwrite(os.path.join(destination_file_path, f'{file_name}_{num_img}.jpg' ), transformed_image)\n",
    "                    # create pascal voc writer (image_path, width, height)\n",
    "                    # print(transformed_image.shape)\n",
    "                    writer = Writer(os.path.join(destination_file_path, f'{file_name}_{num_img}.jpg'), \n",
    "                                    transformed_image.shape[1], transformed_image.shape[0])\n",
    "                    # add objects (class, xmin, ymin, xmax, ymax)\n",
    "                    for info in (transformed_bboxes):\n",
    "                        writer.addObject(info[4], round(info[0]), round(info[1]), round(info[2]), round(info[3]))\n",
    "                    # write to file\n",
    "                    writer.save(os.path.join(destination_file_path, f'{file_name}_{num_img}.xml'))\n",
    "                    blank_file_count+=1\n",
    "                    file_count+=1\n",
    "                    # print(transformed_bboxes)\n",
    "\n",
    "                else:\n",
    "                    continue\n",
    "    print('Total number of augmented images : ', file_count)"
   ]
  },
  {
   "cell_type": "code",
   "execution_count": 20,
   "id": "a09c17b0-0163-497e-bbd7-1d8174ba3c65",
   "metadata": {},
   "outputs": [
    {
     "name": "stdout",
     "output_type": "stream",
     "text": [
      "Number of images :  260\n",
      "Total number of augmented images :  3139\n"
     ]
    }
   ],
   "source": [
    "source_file_path = os.path.join(paths['image_path'],'train', 'img_512+')\n",
    "destination_file_path = os.path.join(paths['image_path'],'train','img_512+','aug')\n",
    "num_images = 20\n",
    "albumentation_pipeline(source_file_path,destination_file_path,num_images)"
   ]
  },
  {
   "cell_type": "code",
   "execution_count": 22,
   "id": "18e9022c-e9c0-44ad-9037-ef246bcc8ae5",
   "metadata": {
    "tags": []
   },
   "outputs": [
    {
     "name": "stdout",
     "output_type": "stream",
     "text": [
      "Number of images :  62\n",
      "Total number of augmented images :  780\n"
     ]
    }
   ],
   "source": [
    "source_file_path = os.path.join(paths['image_path'],'validation', 'img_512+')\n",
    "destination_file_path = os.path.join(paths['image_path'],'validation','img_512+','aug')\n",
    "num_images = 20\n",
    "albumentation_pipeline(source_file_path,destination_file_path,num_images)"
   ]
  },
  {
   "cell_type": "code",
   "execution_count": 16,
   "id": "96ae6004-0ed5-4225-9a2c-6054cad2b8ba",
   "metadata": {},
   "outputs": [
    {
     "name": "stdout",
     "output_type": "stream",
     "text": [
      "Number of images :  96\n",
      "Total number of augmented images :  744\n"
     ]
    }
   ],
   "source": [
    "source_file_path = os.path.join(paths['image_path'],'test', 'img_512+')\n",
    "destination_file_path = os.path.join(paths['image_path'],'test','img_512+','aug')\n",
    "num_images = 15\n",
    "albumentation_pipeline(source_file_path,destination_file_path,num_images)"
   ]
  },
  {
   "cell_type": "code",
   "execution_count": 23,
   "id": "1c1340b5-e65c-4ba5-be73-38d7cb9a1908",
   "metadata": {},
   "outputs": [],
   "source": [
    "transform = A.Compose([\n",
    "    A.RandomCrop(width=300, height=300),\n",
    "    A.HorizontalFlip(p=0.5),\n",
    "    A.RandomBrightnessContrast(p=0.3),\n",
    "    A.RandomGamma(p=0.2), \n",
    "    A.RGBShift(p=0.2),\n",
    "], bbox_params=A.BboxParams(format='pascal_voc', min_visibility=0.3, label_fields=['class_labels']))"
   ]
  },
  {
   "cell_type": "code",
   "execution_count": 24,
   "id": "9423558d-45d4-4bfd-b9c5-36b6a7386ee4",
   "metadata": {},
   "outputs": [
    {
     "name": "stdout",
     "output_type": "stream",
     "text": [
      "Number of images :  179\n",
      "Total number of augmented images :  3313\n"
     ]
    }
   ],
   "source": [
    "source_file_path = os.path.join(paths['image_path'],'train', 'img_300_to_512')\n",
    "destination_file_path = os.path.join(paths['image_path'],'train','img_300_to_512','aug')\n",
    "num_images = 20\n",
    "albumentation_pipeline(source_file_path,destination_file_path,num_images)"
   ]
  },
  {
   "cell_type": "code",
   "execution_count": 25,
   "id": "f9573169-359c-47ec-a8e6-b15eccf9e9f7",
   "metadata": {},
   "outputs": [
    {
     "name": "stdout",
     "output_type": "stream",
     "text": [
      "Number of images :  39\n",
      "Total number of augmented images :  641\n"
     ]
    }
   ],
   "source": [
    "source_file_path = os.path.join(paths['image_path'],'validation', 'img_300_to_512')\n",
    "destination_file_path = os.path.join(paths['image_path'],'validation','img_300_to_512','aug')\n",
    "num_images = 20\n",
    "albumentation_pipeline(source_file_path,destination_file_path,num_images)"
   ]
  },
  {
   "cell_type": "code",
   "execution_count": 19,
   "id": "b20f8b76-c202-4286-8203-358b650f9586",
   "metadata": {},
   "outputs": [
    {
     "name": "stdout",
     "output_type": "stream",
     "text": [
      "Number of images :  41\n",
      "Total number of augmented images :  502\n"
     ]
    }
   ],
   "source": [
    "source_file_path = os.path.join(paths['image_path'],'test', 'img_300_to_512')\n",
    "destination_file_path = os.path.join(paths['image_path'],'test','img_300_to_512','aug')\n",
    "num_images = 15\n",
    "albumentation_pipeline(source_file_path,destination_file_path,num_images)"
   ]
  },
  {
   "cell_type": "code",
   "execution_count": null,
   "id": "a9d7e8bb-240c-4383-95cc-d4c3f77a3102",
   "metadata": {},
   "outputs": [],
   "source": []
  },
  {
   "cell_type": "markdown",
   "id": "7e16901e-8689-456b-b80d-fbdf580b90e2",
   "metadata": {},
   "source": [
    "## resizing images alongwith annotations while maintaining aspect ratio"
   ]
  },
  {
   "cell_type": "code",
   "execution_count": 7,
   "id": "83731a21-1bc3-4642-8b09-b749f9a78c45",
   "metadata": {},
   "outputs": [],
   "source": [
    "im_path = \"Tensorflow/workspace/images/resize/License (25).png\""
   ]
  },
  {
   "cell_type": "code",
   "execution_count": 14,
   "id": "e1fc885c-1a9b-487b-afbe-3aabe38eeba7",
   "metadata": {},
   "outputs": [],
   "source": [
    "im = cv2.imread(im_path)"
   ]
  },
  {
   "cell_type": "code",
   "execution_count": 10,
   "id": "c8ab2038-c2a4-49cc-b8a5-0f6dcc664ebe",
   "metadata": {},
   "outputs": [],
   "source": [
    "(new_height,new_width) = im.shape[:2]"
   ]
  },
  {
   "cell_type": "code",
   "execution_count": 12,
   "id": "2f4481ef-bba7-4336-85b9-89f5a2d333c8",
   "metadata": {},
   "outputs": [
    {
     "data": {
      "text/plain": [
       "36"
      ]
     },
     "execution_count": 12,
     "metadata": {},
     "output_type": "execute_result"
    }
   ],
   "source": [
    "im.shape[:2][0]"
   ]
  },
  {
   "cell_type": "code",
   "execution_count": null,
   "id": "848157c7-d1a2-4fec-9566-47547ab3fe92",
   "metadata": {},
   "outputs": [],
   "source": []
  },
  {
   "cell_type": "code",
   "execution_count": null,
   "id": "2d3eddb0-a998-45a6-8b19-ae60e6336954",
   "metadata": {},
   "outputs": [],
   "source": [
    "file_list = [file for file in os.listdir(source_file_path) \n",
    "             if os.path.isfile(os.path.join(source_file_path, file))]\n",
    "    # file_list = os.listdir(source_file_path)\n",
    "    print('Number of images : ',len(file_list)//2)\n",
    "    # blank_file_count = 0\n",
    "    # file_count = 0\n",
    "    for file in file_list:\n",
    "\n",
    "        file_name = file.split('.')[0]\n",
    "        file_ext = file.split('.')[1]\n",
    "\n",
    "        if (file_ext == 'png'):\n",
    "            # print((os.path.join(source_file_path,file_name,f'.jpg'))\n",
    "            img = cv2.imread(os.path.join(source_file_path,f'{file_name}.png'))\n",
    "            img = cv2.cvtColor(img, cv2.COLOR_BGR2RGB)\n",
    "\n",
    "\n",
    "            xml_file_address = os.path.join(source_file_path,f'{file_name}.xml')\n",
    "            xml_list =[]\n",
    "            tree = ET.parse(xml_file_address)\n",
    "            root = tree.getroot()\n",
    "            for member in root.findall('object'):\n",
    "                value = (root.find('filename').text,\n",
    "                         int(root.find('size')[0].text),\n",
    "                         int(root.find('size')[1].text),\n",
    "                         member[0].text,\n",
    "                         int(member[4].find('xmin').text),\n",
    "                         int(member[4].find('ymin').text),\n",
    "                         int(member[4].find('xmax').text),\n",
    "                         int(member[4].find('ymax').text)\n",
    "                         )\n",
    "                xml_list.append(value)\n",
    "                    \n",
    "                cv2.imwrite(os.path.join(destination_file_path, f'{file_name}.jpg' ), transformed_image)\n",
    "                # create pascal voc writer (image_path, width, height)\n",
    "                # print(transformed_image.shape)\n",
    "                writer = Writer(os.path.join(destination_file_path, f'{file_name}.jpg'), \n",
    "                                transformed_image.shape[1], transformed_image.shape[0])\n",
    "                # add objects (class, xmin, ymin, xmax, ymax)\n",
    "                for info in (transformed_bboxes):\n",
    "                    writer.addObject(info[4], round(info[0]), round(info[1]), round(info[2]), round(info[3]))\n",
    "                # write to file\n",
    "                writer.save(os.path.join(destination_file_path, f'{file_name}.xml'))"
   ]
  },
  {
   "cell_type": "code",
   "execution_count": 8,
   "id": "fb3e773d-c759-426f-859d-cd39f81336f1",
   "metadata": {},
   "outputs": [],
   "source": [
    "def image_resize(source_file_path, destination_file_path , desired_size, inter = cv2.INTER_AREA):\n",
    "    # initialize the dimensions of the image to be resized and\n",
    "    # grab the image size\n",
    "    file_list = [file for file in os.listdir(source_file_path) \n",
    "             if os.path.isfile(os.path.join(source_file_path, file))]\n",
    "    # file_list = os.listdir(source_file_path)\n",
    "    print('Number of images : ',len(file_list)//2)\n",
    "    # blank_file_count = 0\n",
    "    # file_count = 0\n",
    "    for file in file_list:\n",
    "\n",
    "        file_name = file.split('.')[0]\n",
    "        file_ext = file.split('.')[1]\n",
    "\n",
    "        if ((file_ext == 'png') | (file_ext == 'jpg')):\n",
    "            # print((os.path.join(source_file_path,file_name,f'.jpg'))\n",
    "            image = cv2.imread(os.path.join(source_file_path,f'{file}'))\n",
    "            image = cv2.cvtColor(image, cv2.COLOR_BGR2RGB)\n",
    "\n",
    "\n",
    "            xml_file_address = os.path.join(source_file_path,f'{file_name}.xml')\n",
    "            \n",
    "            xml_list =[]\n",
    "            tree = ET.parse(xml_file_address)\n",
    "            root = tree.getroot()\n",
    "            for member in root.findall('object'):\n",
    "                value = (root.find('filename').text,\n",
    "                         int(root.find('size')[0].text),\n",
    "                         int(root.find('size')[1].text),\n",
    "                         member[0].text,\n",
    "                         int(member[4].find('xmin').text),\n",
    "                         int(member[4].find('ymin').text),\n",
    "                         int(member[4].find('xmax').text),\n",
    "                         int(member[4].find('ymax').text)\n",
    "                         )\n",
    "                xml_list.append(value)\n",
    "            old_size = image.shape[:2]\n",
    "            ratio = float(desired_size)/max(old_size)\n",
    "            new_size = tuple([int(x*ratio) for x in old_size])\n",
    "            \n",
    "#             dim = None\n",
    "            \n",
    "\n",
    "#             # if both the width and height are None, then return the\n",
    "#             # original image\n",
    "#             if width is None and height is None:\n",
    "#                 return image\n",
    "\n",
    "#             # check to see if the width is None\n",
    "#             if width is None:\n",
    "#                 # calculate the ratio of the height and construct the\n",
    "#                 # dimensions\n",
    "#                 r = height / float(h)\n",
    "#                 dim = (int(w * r), height)\n",
    "\n",
    "#             # otherwise, the height is None\n",
    "#             else:\n",
    "#                 # calculate the ratio of the width and construct the\n",
    "#                 # dimensions\n",
    "#                 r = width / float(w)\n",
    "#                 dim = (width, int(h * r))\n",
    "\n",
    "            # resize the image\n",
    "            resized = cv2.resize(image, (new_size[1],new_size[0]))\n",
    "\n",
    "            # new_size = resized.shape[:2]\n",
    "            # print(new_size)\n",
    "            # delta_w = resized.shape[:2][1] -  image.shape[:2][1]\n",
    "            # delta_h = resized.shape[:2][0] -  image/shape[:2][0]\n",
    "\n",
    "            delta_w = desired_size - new_size[1]\n",
    "            delta_h = desired_size - new_size[0]\n",
    "            top, bottom = delta_h//2, delta_h-(delta_h//2)\n",
    "            left, right = delta_w//2, delta_w-(delta_w//2)\n",
    "            # print(top,bottom,left,right)\n",
    "\n",
    "            color = [255, 255, 255]\n",
    "            new_im = cv2.copyMakeBorder(resized, top, bottom, left, right, cv2.BORDER_CONSTANT,value=color)\n",
    "            cv2.imwrite(os.path.join(destination_file_path, f'{file}' ), new_im)\n",
    "            \n",
    "            writer = Writer(os.path.join(destination_file_path, f'{file}'), \n",
    "                                new_im.shape[1], new_im.shape[0])\n",
    "            # add objects (class, xmin, ymin, xmax, ymax)\n",
    "            for info in (xml_list):\n",
    "                writer.addObject(info[3], round(info[4]*ratio + left), round(info[5]*ratio + bottom), round(info[6]*ratio + right), round(info[7]*ratio + top))\n",
    "            # write to file\n",
    "            writer.save(os.path.join(destination_file_path, f'{file_name}.xml'))\n",
    "    \n",
    "    \n",
    "\n",
    "\n",
    "    # return the resized image\n",
    "    # return resized"
   ]
  },
  {
   "cell_type": "code",
   "execution_count": 9,
   "id": "351b7f00-6730-4e3e-b5bc-3bca0a9a00f5",
   "metadata": {},
   "outputs": [],
   "source": [
    "source_file_path = os.path.join('number_plate_digit_dataset')\n",
    "destination_file_path = os.path.join('data_1')"
   ]
  },
  {
   "cell_type": "code",
   "execution_count": 10,
   "id": "12511b49-46cb-40a0-b4e2-840d8d8b26b0",
   "metadata": {},
   "outputs": [
    {
     "name": "stdout",
     "output_type": "stream",
     "text": [
      "Number of images :  3627\n"
     ]
    }
   ],
   "source": [
    "image_resize(source_file_path,destination_file_path,256,256)"
   ]
  },
  {
   "cell_type": "code",
   "execution_count": 66,
   "id": "48cf76be-404e-488b-a7d4-92db2074ea57",
   "metadata": {},
   "outputs": [
    {
     "data": {
      "text/plain": [
       "34"
      ]
     },
     "execution_count": 66,
     "metadata": {},
     "output_type": "execute_result"
    }
   ],
   "source": [
    "round(34)"
   ]
  },
  {
   "cell_type": "code",
   "execution_count": 29,
   "id": "ad241063-ce26-4a3a-820c-2d43c357d3d7",
   "metadata": {},
   "outputs": [],
   "source": [
    "xml_path = \"Tensorflow/workspace/images/resize/License (25).xml\"\n",
    "xml_list =[]\n",
    "tree = ET.parse(xml_path)\n",
    "root = tree.getroot()\n",
    "for member in root.findall('object'):\n",
    "    value = (root.find('filename').text,\n",
    "             int(root.find('size')[0].text),\n",
    "             int(root.find('size')[1].text),\n",
    "             member[0].text,\n",
    "             int(member[4].find('xmin').text),\n",
    "             int(member[4].find('ymin').text),\n",
    "             int(member[4].find('xmax').text),\n",
    "             int(member[4].find('ymax').text)\n",
    "             )\n",
    "    xml_list.append(value)"
   ]
  },
  {
   "cell_type": "code",
   "execution_count": 30,
   "id": "45558028-41a2-4a90-85d3-560f1b6afc94",
   "metadata": {},
   "outputs": [
    {
     "data": {
      "text/plain": [
       "[('License (25).png', 128, 36, 'W', 14, 7, 23, 25),\n",
       " ('License (25).png', 128, 36, 'B', 26, 7, 34, 25),\n",
       " ('License (25).png', 128, 36, '0', 37, 8, 45, 25),\n",
       " ('License (25).png', 128, 36, '2', 48, 8, 57, 25),\n",
       " ('License (25).png', 128, 36, 'A', 58, 7, 67, 25),\n",
       " ('License (25).png', 128, 36, 'A', 69, 8, 77, 25),\n",
       " ('License (25).png', 128, 36, '3', 80, 8, 89, 25),\n",
       " ('License (25).png', 128, 36, '5', 91, 8, 100, 25),\n",
       " ('License (25).png', 128, 36, '7', 101, 8, 110, 25),\n",
       " ('License (25).png', 128, 36, '2', 113, 8, 122, 25)]"
      ]
     },
     "execution_count": 30,
     "metadata": {},
     "output_type": "execute_result"
    }
   ],
   "source": [
    "xml_list"
   ]
  },
  {
   "cell_type": "code",
   "execution_count": 31,
   "id": "603ae101-0372-4278-827a-f91a8b36bf39",
   "metadata": {},
   "outputs": [
    {
     "data": {
      "text/plain": [
       "('License (25).png', 128, 36, 'B', 26, 7, 34, 25)"
      ]
     },
     "execution_count": 31,
     "metadata": {},
     "output_type": "execute_result"
    }
   ],
   "source": [
    "xml_list[1]"
   ]
  },
  {
   "cell_type": "code",
   "execution_count": 32,
   "id": "c5c01e96-8d0c-439a-bbe1-ccf5d0f8b87a",
   "metadata": {},
   "outputs": [
    {
     "name": "stdout",
     "output_type": "stream",
     "text": [
      "25\n",
      "25\n",
      "25\n",
      "25\n",
      "25\n",
      "25\n",
      "25\n",
      "25\n",
      "25\n",
      "25\n"
     ]
    }
   ],
   "source": [
    " for info in (xml_list):\n",
    "        print(info[7])"
   ]
  },
  {
   "cell_type": "code",
   "execution_count": null,
   "id": "c721126c-a3a3-447a-9496-ffd6a618b6f6",
   "metadata": {},
   "outputs": [],
   "source": []
  }
 ],
 "metadata": {
  "kernelspec": {
   "display_name": "tfod",
   "language": "python",
   "name": "tfod"
  },
  "language_info": {
   "codemirror_mode": {
    "name": "ipython",
    "version": 3
   },
   "file_extension": ".py",
   "mimetype": "text/x-python",
   "name": "python",
   "nbconvert_exporter": "python",
   "pygments_lexer": "ipython3",
   "version": "3.9.10"
  }
 },
 "nbformat": 4,
 "nbformat_minor": 5
}
